{
  "nbformat": 4,
  "nbformat_minor": 0,
  "metadata": {
    "colab": {
      "name": "token tutorial-estherp.ipynb",
      "provenance": [],
      "toc_visible": true,
      "authorship_tag": "ABX9TyO49VGgrJEqL1q623T4PxHT",
      "include_colab_link": true
    },
    "kernelspec": {
      "name": "python3",
      "display_name": "Python 3"
    },
    "language_info": {
      "name": "python"
    }
  },
  "cells": [
    {
      "cell_type": "markdown",
      "metadata": {
        "id": "view-in-github",
        "colab_type": "text"
      },
      "source": [
        "<a href=\"https://colab.research.google.com/github/1daytotheleft/ENG3810/blob/main/token_tutorial_estherp.ipynb\" target=\"_parent\"><img src=\"https://colab.research.google.com/assets/colab-badge.svg\" alt=\"Open In Colab\"/></a>"
      ]
    },
    {
      "cell_type": "markdown",
      "source": [
        "# spaCy: How to Find Titled, Uppercased, and Lowercased Words in a Text"
      ],
      "metadata": {
        "id": "Orpg-fAm5qmV"
      }
    },
    {
      "cell_type": "markdown",
      "source": [
        "*SpaCy is an extensive, open-source modern library for Natural Language Processing (NLP). SpaCy is written in Python, but can load spaCy models in several different programming languages. It has several functions that can be used to build applications to process large texts.*\n",
        "\n",
        "*This tutorial uses spaCy vrn. 2.2.4*"
      ],
      "metadata": {
        "id": "G1L4sVza_FHW"
      }
    },
    {
      "cell_type": "markdown",
      "source": [
        "## spaCy Token Attributes\n",
        "\n",
        "spaCy `Token` objects are the \"storage containers\" for linguistic information such as words or punctuation. spaCy `Token` objects constitute larger spaCy `Doc` objects.\n",
        "\n",
        "spaCy `Token` objects have various \"Attributes\" that contain linguistic information about the `Token.` These attributes include the following:\n",
        "\n",
        "|attribute|description|type|\n",
        "|---------|-----------|----|\n",
        "|is_alpha|\tDoes the token consist of alphabetic characters? Equivalent to token text.isalpha().|bool|\n",
        "|is_ascii|\tDoes the token consist of ASCII characters? Equivalent to all(ord(c) < 128 for c in token.text).|bool|\n",
        "|is_digit\t|Does the token consist of digits? Equivalent to token.text.isdigit().|bool|\n",
        "|is_lower\t|Is the token in lowercase? Equivalent to token.text.islower().|bool|\n",
        "|is_upper\t|Is the token in uppercase? Equivalent to token.text.isupper().|bool|\n",
        "|is_title|\tIs the token in titlecase? Equivalent to token.text.istitle().|bool|\n",
        "|is_punct\t|Is the token punctuation?|bool|\n",
        "|is_left_punct|\tIs the token a left punctuation mark, e.g. \"(\" ?|bool|\n",
        "|is_right_punct|\tIs the token a right punctuation mark, e.g. \")\" ?|bool|\n",
        "|is_sent_start|\tDoes the token start a sentence? |bool or None if unknownDefaults to True for the first token in the Doc.|\n",
        "|is_sent_end|\tDoes the token end a sentence? bool or None if unknown.\n",
        "|is_space\t|Does the token consist of whitespace characters? Equivalent to token.text.isspace().|bool|\n",
        "|is_bracket|\tIs the token a bracket?|bool|\n",
        "|is_quote\t|Is the token a quotation mark?|bool|\n",
        "|is_currency\t|Is the token a currency symbol?|bool|\n",
        "|like_url\t|Does the token resemble a URL?|bool|\n",
        "|like_num\t|Does the token represent a number? e.g. “10.9”, “10”, “ten”, etc.|bool|\n",
        "|like_email\t|Does the token resemble an email address?|bool|\n",
        "|is_oov|\tIs the token out-of-vocabulary (i.e. does it not have a word vector)?|bool|\n",
        "|is_stop|\tIs the token part of a “stop list”?|bool|\n",
        "\n",
        "See [spaCy Token API](https://spacy.io/api/token#attributes) for more information and attribute types."
      ],
      "metadata": {
        "id": "ZlHD6gi5h6JB"
      }
    },
    {
      "cell_type": "markdown",
      "source": [
        "## For this tutorial, we will use the attribute:\n",
        "\n",
        "* `.is_title` to identify tokens with a capitalized first letter\n",
        "* `.is_upper` to identify tokens in all capitalized letters\n",
        "* `.is_lower` to identify tokens in all lowercased letters\n"
      ],
      "metadata": {
        "id": "SFvjncHz6sPk"
      }
    },
    {
      "cell_type": "markdown",
      "source": [
        "### Step 1: \n",
        "Import spaCy library. Then process the raw text into readable tokens."
      ],
      "metadata": {
        "id": "LHPvpLxd7KK3"
      }
    },
    {
      "cell_type": "code",
      "source": [
        "import spacy\n",
        "\n",
        "# load spaCy language model\n",
        "\n",
        "nlp = spacy.load('en_core_web_sm')\n",
        "\n",
        "# process raw text into a spaCy Doc\n",
        "\n",
        "doc = nlp('The USA has 50 states.')"
      ],
      "metadata": {
        "id": "lCShf9Tl7ILc"
      },
      "execution_count": null,
      "outputs": []
    },
    {
      "cell_type": "markdown",
      "source": [
        "## Step 2: \n",
        "You can access each token via a Python `for-loop`, as displayed below: "
      ],
      "metadata": {
        "id": "EcUQRg-29Ada"
      }
    },
    {
      "cell_type": "code",
      "source": [
        "for token in doc:\n",
        "  print(token)\n",
        "\n",
        "## note: print() is a command to display each token as attributed within the parentheses"
      ],
      "metadata": {
        "colab": {
          "base_uri": "https://localhost:8080/"
        },
        "id": "IMgCAiGm750J",
        "outputId": "8f990e22-4125-4c77-c653-99b0af83a970"
      },
      "execution_count": null,
      "outputs": [
        {
          "output_type": "stream",
          "name": "stdout",
          "text": [
            "The\n",
            "USA\n",
            "has\n",
            "50\n",
            "states\n",
            ".\n"
          ]
        }
      ]
    },
    {
      "cell_type": "markdown",
      "source": [
        "## Step 3: \n",
        "Within the `for-loop`, each token can be tagged due to the attribute"
      ],
      "metadata": {
        "id": "_MUc5pp999jv"
      }
    },
    {
      "cell_type": "code",
      "source": [
        "for token in doc:\n",
        "  print(token.text, token.is_upper)"
      ],
      "metadata": {
        "colab": {
          "base_uri": "https://localhost:8080/"
        },
        "id": "cN3wCFxeAUrA",
        "outputId": "890bf3ea-3570-42c4-989b-cce8501d1133"
      },
      "execution_count": null,
      "outputs": [
        {
          "output_type": "stream",
          "name": "stdout",
          "text": [
            "The False\n",
            "USA True\n",
            "has False\n",
            "50 False\n",
            "states False\n",
            ". False\n"
          ]
        }
      ]
    },
    {
      "cell_type": "markdown",
      "source": [
        "Click through the options to see the appropriate set-up for each attribute."
      ],
      "metadata": {
        "id": "fXhcJeFUgQMD"
      }
    },
    {
      "cell_type": "code",
      "source": [
        "#@title { display-mode: \"form\" }\n",
        "\n",
        "option1 = 'Upper' #@param [\"Title\", \"Upper\", \"Lower\"]\n",
        "print('# You selected', option1)\n",
        "\n",
        "if option1 == 'Title': \n",
        "  print(\"\"\"\n",
        "  for token in doc:\n",
        "   print(token.text, token.is_title)\"\"\")\n",
        "  for token in doc: \n",
        "     print(token.text,token.is_title)\n",
        "elif option1 == 'Upper':\n",
        "  print(\"\"\"\n",
        "  for token in doc:\n",
        "   print(token.text, token.is_upper)\"\"\")\n",
        "  for token in doc: \n",
        "     print(token.text,token.is_upper)\n",
        "else: \n",
        "  print(\"\"\"\n",
        "  for token in doc:\n",
        "   print(token.text, token.is_lower)\"\"\")\n",
        "  for token in doc: \n",
        "     print(token.text,token.is_lower)"
      ],
      "metadata": {
        "colab": {
          "base_uri": "https://localhost:8080/"
        },
        "id": "y0eO9No5Dzkc",
        "outputId": "f9d0b95e-e65a-4df5-f972-1305e52c0601"
      },
      "execution_count": null,
      "outputs": [
        {
          "output_type": "stream",
          "name": "stdout",
          "text": [
            "# You selected Upper\n",
            "\n",
            "  for token in doc:\n",
            "   print(token.text, token.is_upper)\n",
            "The False\n",
            "USA True\n",
            "has False\n",
            "50 False\n",
            "states False\n",
            ". False\n"
          ]
        }
      ]
    }
  ]
}