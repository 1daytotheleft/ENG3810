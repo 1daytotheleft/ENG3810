{
  "nbformat": 4,
  "nbformat_minor": 0,
  "metadata": {
    "colab": {
      "name": "NER tutorial - esther.ipynb",
      "provenance": [],
      "toc_visible": true,
      "authorship_tag": "ABX9TyOss3/DWrjwHDZbJLyEPVUt",
      "include_colab_link": true
    },
    "kernelspec": {
      "name": "python3",
      "display_name": "Python 3"
    },
    "language_info": {
      "name": "python"
    }
  },
  "cells": [
    {
      "cell_type": "markdown",
      "metadata": {
        "id": "view-in-github",
        "colab_type": "text"
      },
      "source": [
        "<a href=\"https://colab.research.google.com/github/1daytotheleft/ENG3810/blob/main/NER_tutorial_esther.ipynb\" target=\"_parent\"><img src=\"https://colab.research.google.com/assets/colab-badge.svg\" alt=\"Open In Colab\"/></a>"
      ]
    },
    {
      "cell_type": "markdown",
      "source": [
        "# Named Entity Recognition (NER)\n",
        "This is a NLP function, wherein certain entities are located from a bulk of text. Entities in general refer to pieces of raw data. Named entities specifically are entities that typically refer to real world objects. This can include persons' names, locations, companies, titles, etc. NER can find and categorize them according to what type of object it is. "
      ],
      "metadata": {
        "id": "uuQejgvriI27"
      }
    },
    {
      "cell_type": "markdown",
      "source": [
        "### Step 1:\n",
        "Import spaCy. \n",
        "\n",
        "*Note: we are downloading version 3.6.2 for this tutorial. The default is usually vrn. 2.2.4"
      ],
      "metadata": {
        "id": "5jfnHySOcWFg"
      }
    },
    {
      "cell_type": "code",
      "source": [
        "import spacy\n",
        "\n",
        "#download vrn 3.6.2\n",
        "\n",
        "!spacy download en_core_web_sm"
      ],
      "metadata": {
        "id": "CGaN6SxHkFYA"
      },
      "execution_count": null,
      "outputs": []
    },
    {
      "cell_type": "code",
      "source": [
        "#load spaCy language model\n",
        "\n",
        "nlp = spacy.load('en_core_web_sm')"
      ],
      "metadata": {
        "id": "k1aMX-P8Ks4j"
      },
      "execution_count": null,
      "outputs": []
    },
    {
      "cell_type": "markdown",
      "source": [
        "### Let's get a run-down of some basic named-entity categories. "
      ],
      "metadata": {
        "id": "Wnh-Fbetcs6G"
      }
    },
    {
      "cell_type": "code",
      "source": [
        "#@markdown Use the `for-loop` shown below to iterate through each named entity label and description\n",
        "for label in nlp.get_pipe('ner').labels:\n",
        "  print(label,spacy.explain(label),'\\n')\n",
        "\n",
        "#@markdown *Note: `'/n'` is to break the output into separate lines for ease of reading. Disregard it for now."
      ],
      "metadata": {
        "colab": {
          "base_uri": "https://localhost:8080/"
        },
        "id": "TEgyS88Gl0iv",
        "outputId": "7d50df42-aced-4e14-998f-1d28a1123c97"
      },
      "execution_count": null,
      "outputs": [
        {
          "output_type": "stream",
          "name": "stdout",
          "text": [
            "CARDINAL Numerals that do not fall under another type \n",
            "\n",
            "DATE Absolute or relative dates or periods \n",
            "\n",
            "EVENT Named hurricanes, battles, wars, sports events, etc. \n",
            "\n",
            "FAC Buildings, airports, highways, bridges, etc. \n",
            "\n",
            "GPE Countries, cities, states \n",
            "\n",
            "LANGUAGE Any named language \n",
            "\n",
            "LAW Named documents made into laws. \n",
            "\n",
            "LOC Non-GPE locations, mountain ranges, bodies of water \n",
            "\n",
            "MONEY Monetary values, including unit \n",
            "\n",
            "NORP Nationalities or religious or political groups \n",
            "\n",
            "ORDINAL \"first\", \"second\", etc. \n",
            "\n",
            "ORG Companies, agencies, institutions, etc. \n",
            "\n",
            "PERCENT Percentage, including \"%\" \n",
            "\n",
            "PERSON People, including fictional \n",
            "\n",
            "PRODUCT Objects, vehicles, foods, etc. (not services) \n",
            "\n",
            "QUANTITY Measurements, as of weight or distance \n",
            "\n",
            "TIME Times smaller than a day \n",
            "\n",
            "WORK_OF_ART Titles of books, songs, etc. \n",
            "\n"
          ]
        }
      ]
    },
    {
      "cell_type": "markdown",
      "source": [
        "### Step 2: \n",
        "Import data/text. \n",
        "\n",
        "**For this tutorial, we will be using data from sklearn's 20 Newsgroups dataset. We will only load posts from the `comp.sys.mac.hardware` forum.\n"
      ],
      "metadata": {
        "id": "48AOZW7Jc0-P"
      }
    },
    {
      "cell_type": "code",
      "source": [
        "from sklearn.datasets import fetch_20newsgroups\n",
        "\n",
        "news = fetch_20newsgroups(subset='train',categories=['comp.sys.mac.hardware'])\n"
      ],
      "metadata": {
        "id": "4FJicN9EkO7v"
      },
      "execution_count": null,
      "outputs": []
    },
    {
      "cell_type": "code",
      "source": [
        "# Here is a preview of the data\n",
        "news.data[0]"
      ],
      "metadata": {
        "colab": {
          "base_uri": "https://localhost:8080/",
          "height": 157
        },
        "id": "3-MWT1P3Kgf3",
        "outputId": "cffccdf2-5b62-406b-d2b2-d8a0151a4eda"
      },
      "execution_count": null,
      "outputs": [
        {
          "output_type": "execute_result",
          "data": {
            "text/plain": [
              "'From: Sammons@mailer.acns.fsu.edu (David Sammons)\\nSubject: Re: Monitor turning off on its own\\nOrganization: FSUACNS\\nLines: 29\\n\\nIn article <gcohen.164.734712474@mailer.acns.fsu.edu>,\\ngcohen@mailer.acns.fsu.edu (Gregory Cohen) wrote:\\n> \\n> In article <1993Apr13.142129.9491@rhrk.uni-kl.de> staudt@physik.uni-kl.de (Willi Staudt AG-Linder) writes:\\n> >From: staudt@physik.uni-kl.de (Willi Staudt AG-Linder)\\n> >Subject: Re: Monitor turning off on its own\\n> >Date: Tue, 13 Apr 1993 14:21:29 GMT\\n> >kayc@leland.Stanford.EDU (K C Ku) writes:\\n> >|>\\n> >|>I have a strange problem with my Apple 13\" monitor which hopefully\\n> >|>someone can shed some light on. \\n> >|>\\n> >|>I would be using my computer for 5 minutes and then the screen would\\n> >|>go blank as if someone has switch the monitor off. After the screen\\n> >|>went off, I would not be able to turn the monitor off even if I turn\\n> >|>the power off and back on. I will have to let the monitor sit over\\n> >|>night and it usually turns on, although it doesnt stay on for very\\n> >|>long.\\n> >|>\\n> >|>Dooes anybody has similar experience with such a problem before? Is\\n> >|>there some fuse in the monitor that prevents it from turning on? When\\n> >|>I try to turn the monitor on, it seems that the monitor tries to turn\\n> >|>on but it prevented by some mechamism.\\n> \\n\\tIn certain Apple 13\" RGB monitors there has been a problem with\\n\\tthe HIGH VOLTAGE CAPASITOR. Apple knows about this problem and is\\n\\treplacing the cap at no cost if it falls into the bad batch that\\n\\tthey got from their supplier. Your local repair shop should know about\\n\\tREPAIR EXTENSION 3L0218.\\n'"
            ],
            "application/vnd.google.colaboratory.intrinsic+json": {
              "type": "string"
            }
          },
          "metadata": {},
          "execution_count": 5
        }
      ]
    },
    {
      "cell_type": "markdown",
      "source": [
        "### Step 3:\n",
        "Prepare the data and/or text as a spaCy doc\n",
        "\n",
        "**Being stored as a spaCy doc allows that data to be put through NLP processes by spaCy\n"
      ],
      "metadata": {
        "id": "gKNA3NaJd4T-"
      }
    },
    {
      "cell_type": "code",
      "source": [
        "doc = nlp(news.data[500])\n"
      ],
      "metadata": {
        "id": "iduNPjcNk8y4"
      },
      "execution_count": null,
      "outputs": []
    },
    {
      "cell_type": "code",
      "source": [
        "#@markdown This will print named-entities found in the data (However, it will not show the label for the named-entities yet)\n",
        "print(doc.ents)\n"
      ],
      "metadata": {
        "colab": {
          "base_uri": "https://localhost:8080/"
        },
        "id": "CfjGRr9OlfUt",
        "outputId": "558352b4-f291-42e7-d762-82758167f43a"
      },
      "execution_count": null,
      "outputs": [
        {
          "output_type": "stream",
          "name": "stdout",
          "text": [
            "(Michael A. McGuire, 2, University of Tennessee Computing Center, VersaTerm Link, 27, Dave Hollinsworth, two, >1, SIMMS, 80ns, RAM, two, 132, 136, megs, 8, meg, 8, 4 megs, 4, 2, 4mb & 8mb, 4, 132mb, 650, Michael A. McGuire, UTCC - User Services)\n"
          ]
        }
      ]
    },
    {
      "cell_type": "markdown",
      "source": [
        "### Step 4: \n",
        "In order to find out what type of entity each named-entity in the doc is, use the `.label_` attribute\n"
      ],
      "metadata": {
        "id": "WuBkD7oqeMxH"
      }
    },
    {
      "cell_type": "code",
      "source": [
        "# Printing labels of entities.\n",
        "for entity in doc.ents:\n",
        "  print(entity.text,'--- ',entity.label_)"
      ],
      "metadata": {
        "colab": {
          "base_uri": "https://localhost:8080/"
        },
        "id": "c6f0-NVtnJE9",
        "outputId": "ba8ce9bc-bd77-4046-ab78-e4dcef016e54"
      },
      "execution_count": null,
      "outputs": [
        {
          "output_type": "stream",
          "name": "stdout",
          "text": [
            "Michael A. McGuire ---  PERSON\n",
            "2 ---  CARDINAL\n",
            "University of Tennessee Computing Center ---  ORG\n",
            "VersaTerm Link ---  PERSON\n",
            "27 ---  CARDINAL\n",
            "Dave Hollinsworth ---  PERSON\n",
            "two ---  CARDINAL\n",
            ">1 ---  DATE\n",
            "SIMMS ---  ORG\n",
            "80ns ---  ORDINAL\n",
            "RAM ---  ORG\n",
            "two ---  CARDINAL\n",
            "132 ---  CARDINAL\n",
            "136 ---  CARDINAL\n",
            "megs ---  PERSON\n",
            "8 ---  CARDINAL\n",
            "meg ---  ORG\n",
            "8 ---  CARDINAL\n",
            "4 megs ---  MONEY\n",
            "4 ---  CARDINAL\n",
            "2 ---  CARDINAL\n",
            "4mb & 8mb ---  QUANTITY\n",
            "4 ---  CARDINAL\n",
            "132mb ---  QUANTITY\n",
            "650 ---  CARDINAL\n",
            "Michael A. McGuire ---  PERSON\n",
            "UTCC - User Services ---  ORG\n"
          ]
        }
      ]
    }
  ]
}
